{
 "cells": [
  {
   "cell_type": "code",
   "execution_count": 1,
   "id": "63f5a5ea",
   "metadata": {
    "scrolled": false
   },
   "outputs": [
    {
     "name": "stdout",
     "output_type": "stream",
     "text": [
      "Requirement already satisfied: gym==0.7 in d:\\anaconda\\envs\\tresnueve\\lib\\site-packages (0.7.0)\n",
      "Requirement already satisfied: numpy>=1.10.4 in d:\\anaconda\\envs\\tresnueve\\lib\\site-packages (from gym==0.7) (1.25.0)\n",
      "Requirement already satisfied: requests>=2.0 in d:\\anaconda\\envs\\tresnueve\\lib\\site-packages (from gym==0.7) (2.29.0)\n",
      "Requirement already satisfied: six in d:\\anaconda\\envs\\tresnueve\\lib\\site-packages (from gym==0.7) (1.16.0)\n",
      "Requirement already satisfied: pyglet>=1.2.0 in d:\\anaconda\\envs\\tresnueve\\lib\\site-packages (from gym==0.7) (1.5.27)\n",
      "Requirement already satisfied: charset-normalizer<4,>=2 in d:\\anaconda\\envs\\tresnueve\\lib\\site-packages (from requests>=2.0->gym==0.7) (2.0.4)\n",
      "Requirement already satisfied: idna<4,>=2.5 in d:\\anaconda\\envs\\tresnueve\\lib\\site-packages (from requests>=2.0->gym==0.7) (3.4)\n",
      "Requirement already satisfied: urllib3<1.27,>=1.21.1 in d:\\anaconda\\envs\\tresnueve\\lib\\site-packages (from requests>=2.0->gym==0.7) (1.26.16)\n",
      "Requirement already satisfied: certifi>=2017.4.17 in d:\\anaconda\\envs\\tresnueve\\lib\\site-packages (from requests>=2.0->gym==0.7) (2023.5.7)\n",
      "Requirement already satisfied: pyglet==1.5.27 in d:\\anaconda\\envs\\tresnueve\\lib\\site-packages (1.5.27)\n"
     ]
    }
   ],
   "source": [
    "!pip install gym==0.7\n",
    "!pip install pyglet==1.5.27"
   ]
  },
  {
   "cell_type": "code",
   "execution_count": 2,
   "id": "c5ba8ed8",
   "metadata": {},
   "outputs": [],
   "source": [
    "#!/usr/bin/env python3\n",
    "\"\"\"\n",
    "policy_gradient.py\n",
    "\"\"\"\n",
    "import numpy as np\n",
    "\n",
    "\n",
    "def policy(matrix, weight):\n",
    "    \"\"\"Function that computes to policy with a weight of a matrix\n",
    "\n",
    "    Args:\n",
    "        matrix (np.array): Matrix\n",
    "        weight (np.array): Weights\n",
    "\n",
    "    Returns:\n",
    "        np.array with the weight of a matrix\n",
    "    \"\"\"\n",
    "    X = matrix @ weight\n",
    "    Z = np.exp(X)  # type: ignore\n",
    "    A = Z / np.sum(Z)\n",
    "    return A\n",
    "\n",
    "\n",
    "def policy_gradient(state, weight):\n",
    "    \"\"\"Function that computes the Monte-Carlo policy\n",
    "    gradient based on a state and a weight matrix\n",
    "    Args:\n",
    "        state (np.array): Representation of the current state\n",
    "        weight (np.array): Weights\n",
    "\n",
    "    Returns:\n",
    "        int, np.array: action and the gradient\n",
    "    \"\"\"\n",
    "    P = policy(state, weight)\n",
    "\n",
    "    a = np.random.choice(P.shape[1], p=P[0])\n",
    "\n",
    "    delt = P.T\n",
    "    delt = np.diagflat(delt) - (delt @ delt.T)\n",
    "    delt = delt[a, :] / P[0, a]\n",
    "    delt = state.T @ delt[np.newaxis, :]\n",
    "    return a, delt\n"
   ]
  },
  {
   "cell_type": "code",
   "execution_count": 3,
   "id": "be9f95d3",
   "metadata": {},
   "outputs": [],
   "source": [
    "#!/usr/bin/env python3\n",
    "\"\"\"\n",
    "train.py\n",
    "\"\"\"\n",
    "import numpy as np\n",
    "# policy_gradient = __import__('policy_gradient').policy_gradient\n",
    "\n",
    "\n",
    "def train(env, nb_episodes, alpha=0.000045, gamma=0.98, show_result=False):\n",
    "    \"\"\"Function that implements a full training\n",
    "\n",
    "    Args:\n",
    "        env (gym.enviroment): initial environment\n",
    "        nb_episodes (int): number of episodes used for training\n",
    "        alpha (float, optional): learning rate. Defaults to 0.000045.\n",
    "        gamma (float, optional): discount rate. Defaults to 0.98.\n",
    "    \"\"\"\n",
    "    weight = np.random.rand(env.observation_space.shape[0], env.action_space.n)\n",
    "    episode_rewards = []\n",
    "    for episode in range(nb_episodes):\n",
    "        state = env.reset()[np.newaxis, :]\n",
    "        grads = []\n",
    "        rewards = []\n",
    "        score = 0\n",
    "        T = 0\n",
    "        done = False\n",
    "        while not done:\n",
    "            if show_result and not episode % 1000:\n",
    "                env.render()\n",
    "            action, grad = policy_gradient(state, weight)\n",
    "            next_state, reward, done, _ = env.step(action)\n",
    "            next_state = next_state[np.newaxis, :]\n",
    "            grads.append(grad)\n",
    "            rewards.append(reward)\n",
    "            score += reward\n",
    "            state = next_state\n",
    "            T += 1\n",
    "            if done:\n",
    "                break\n",
    "        episode_rewards.append(score)\n",
    "        print(\"Episode: \" + str(episode) + \" Score: \" + str(score), end=\"\\r\", flush=False)\n",
    "        for i in range(T):\n",
    "            weight += alpha * grads[i] * sum([r * gamma ** r for t, r in enumerate(rewards[i:])])\n",
    "    return episode_rewards\n"
   ]
  },
  {
   "cell_type": "code",
   "execution_count": 7,
   "id": "b2fdca61",
   "metadata": {},
   "outputs": [
    {
     "name": "stderr",
     "output_type": "stream",
     "text": [
      "[2023-07-07 11:39:09,044] Making new env: CartPole-v1\n"
     ]
    },
    {
     "name": "stdout",
     "output_type": "stream",
     "text": [
      "Episode: 9999 Score: 59.000\r"
     ]
    },
    {
     "data": {
      "image/png": "[encoded data removed]",
      "text/plain": [
       "<Figure size 640x480 with 1 Axes>"
      ]
     },
     "metadata": {},
     "output_type": "display_data"
    }
   ],
   "source": [
    "#!/usr/bin/env python3\n",
    "\"\"\"\n",
    "Main file\n",
    "\"\"\"\n",
    "import gym\n",
    "import matplotlib.pyplot as plt\n",
    "import numpy as np\n",
    "\n",
    "# from train import train\n",
    "\n",
    "env = gym.make('CartPole-v1')\n",
    "\n",
    "scores = train(env, 10000)\n",
    "\n",
    "plt.plot(np.arange(len(scores)), scores)\n",
    "plt.show()\n",
    "env.close()\n"
   ]
  },
  {
   "cell_type": "code",
   "execution_count": 4,
   "id": "064b861b",
   "metadata": {},
   "outputs": [
    {
     "name": "stderr",
     "output_type": "stream",
     "text": [
      "[2023-07-07 11:46:20,484] Making new env: CartPole-v1\n",
      "D:\\Anaconda\\envs\\tresnueve\\lib\\site-packages\\gym\\envs\\registration.py:18: PkgResourcesDeprecationWarning: Parameters to load are deprecated.  Call .resolve and .require separately.\n",
      "  result = entry_point.load(False)\n"
     ]
    },
    {
     "name": "stdout",
     "output_type": "stream",
     "text": [
      "Episode: 9999 Score: 104.0.0\r"
     ]
    }
   ],
   "source": [
    "#!/usr/bin/env python3\n",
    "\"\"\"\n",
    "Main file\n",
    "\"\"\"\n",
    "import gym\n",
    "\n",
    "# from train import train\n",
    "\n",
    "env = gym.make('CartPole-v1')\n",
    "\n",
    "scores = train(env, 10000, 0.000045, 0.98, True)\n",
    "\n",
    "env.close()"
   ]
  },
  {
   "cell_type": "code",
   "execution_count": null,
   "id": "629ec1c7",
   "metadata": {},
   "outputs": [],
   "source": []
  }
 ],
 "metadata": {
  "kernelspec": {
   "display_name": "Python 3 (ipykernel)",
   "language": "python",
   "name": "python3"
  },
  "language_info": {
   "codemirror_mode": {
    "name": "ipython",
    "version": 3
   },
   "file_extension": ".py",
   "mimetype": "text/x-python",
   "name": "python",
   "nbconvert_exporter": "python",
   "pygments_lexer": "ipython3",
   "version": "3.9.17"
  }
 },
 "nbformat": 4,
 "nbformat_minor": 5
}
