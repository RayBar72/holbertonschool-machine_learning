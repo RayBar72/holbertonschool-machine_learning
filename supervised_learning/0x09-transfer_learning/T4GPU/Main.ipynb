{
 "cells": [
  {
   "cell_type": "code",
   "execution_count": 1,
   "id": "dade68f9",
   "metadata": {},
   "outputs": [],
   "source": [
    "def preprocess_data(X, Y):\n",
    "    \"\"\"Preprocess data for Resnet50.\n",
    "    Args:\n",
    "        X (np.ndarray): matrix of shape (m, 32, 32, 3) containing the CIFAR 10\n",
    "                        data, where m is the number of data points.\n",
    "        Y (np.ndarray): matrix of shape (m,) containing the CIFAR 10 labels\n",
    "                        for X.\n",
    "    Returns:\n",
    "        X is a numpy.ndarray containing the preprocessed X\n",
    "        Y is a numpy.ndarray containing the preprocessed Y\n",
    "    \"\"\"\n",
    "    X_p = K.applications.resnet50.preprocess_input(X)\n",
    "    Y_p = K.utils.to_categorical(Y, 10)\n",
    "\n",
    "    return X_p, Y_p\n",
    "\n"
   ]
  },
  {
   "cell_type": "code",
   "execution_count": 2,
   "id": "b5c09aab",
   "metadata": {},
   "outputs": [
    {
     "name": "stderr",
     "output_type": "stream",
     "text": [
      "D:\\Programs\\anaconda3\\envs\\tf-gpu\\lib\\site-packages\\scipy\\__init__.py:146: UserWarning: A NumPy version >=1.16.5 and <1.23.0 is required for this version of SciPy (detected version 1.23.1\n",
      "  warnings.warn(f\"A NumPy version >={np_minversion} and <{np_maxversion}\"\n"
     ]
    },
    {
     "name": "stdout",
     "output_type": "stream",
     "text": [
      "79/79 [==============================] - 93s 748ms/step - loss: 0.4684 - acc: 0.9104\n"
     ]
    },
    {
     "data": {
      "text/plain": [
       "[0.46840742230415344, 0.9103999733924866]"
      ]
     },
     "execution_count": 2,
     "metadata": {},
     "output_type": "execute_result"
    }
   ],
   "source": [
    "#!/usr/bin/env python3\n",
    "\n",
    "import tensorflow.keras as K\n",
    "# preprocess_data = __import__('0-transfer').preprocess_data\n",
    "\n",
    "# to fix issue with saving keras applications\n",
    "K.learning_phase = K.backend.learning_phase \n",
    "\n",
    "_, (X, Y) = K.datasets.cifar10.load_data()\n",
    "X_p, Y_p = preprocess_data(X, Y)\n",
    "model = K.models.load_model('cifar10.h5')\n",
    "model.evaluate(X_p, Y_p, batch_size=128, verbose=1)"
   ]
  },
  {
   "cell_type": "code",
   "execution_count": null,
   "id": "74f724e4",
   "metadata": {},
   "outputs": [],
   "source": []
  }
 ],
 "metadata": {
  "kernelspec": {
   "display_name": "Python 3 (ipykernel)",
   "language": "python",
   "name": "python3"
  },
  "language_info": {
   "codemirror_mode": {
    "name": "ipython",
    "version": 3
   },
   "file_extension": ".py",
   "mimetype": "text/x-python",
   "name": "python",
   "nbconvert_exporter": "python",
   "pygments_lexer": "ipython3",
   "version": "3.9.12"
  }
 },
 "nbformat": 4,
 "nbformat_minor": 5
}
