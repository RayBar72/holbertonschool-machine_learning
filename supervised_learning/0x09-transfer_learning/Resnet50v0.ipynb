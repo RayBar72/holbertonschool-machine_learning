{
 "cells": [
  {
   "cell_type": "markdown",
   "metadata": {
    "id": "kjC6o7zThgYe"
   },
   "source": [
    "# Modulus that trains a CIFAR 10 dataset\n",
    "## Uses Resnet50\n",
    "### Deep Residual Learning for Image Recognition\n",
    "**Kaiming He, Xiangyu Zhang, Shaoqing Ren, Jian Sun**\n",
    "Deeper neural networks are more difficult to train. We present a residual learning framework to ease the training of networks that are substantially deeper than those used previously. We explicitly reformulate the layers as learning residual functions with reference to the layer inputs, instead of learning unreferenced functions. We provide comprehensive empirical evidence showing that these residual networks are easier to optimize, and can gain accuracy from considerably increased depth. On the ImageNet dataset we evaluate residual nets with a depth of up to 152 layers---8x deeper than VGG nets but still having lower complexity. An ensemble of these residual nets achieves 3.57% error on the ImageNet test set. This result won the 1st place on the ILSVRC 2015 classification task. We also present analysis on CIFAR-10 with 100 and 1000 layers.\n",
    "The depth of representations is of central importance for many visual recognition tasks. Solely due to our extremely deep representations, we obtain a 28% relative improvement on the COCO object detection dataset. Deep residual nets are foundations of our submissions to ILSVRC & COCO 2015 competitions, where we also won the 1st places on the tasks of ImageNet detection, ImageNet localization, COCO detection, and COCO segmentation."
   ]
  },
  {
   "cell_type": "code",
   "execution_count": 1,
   "metadata": {
    "colab": {
     "base_uri": "https://localhost:8080/"
    },
    "executionInfo": {
     "elapsed": 1182383,
     "status": "ok",
     "timestamp": 1664974649391,
     "user": {
      "displayName": "Raymundo Barrera Flores",
      "userId": "09320084639407893070"
     },
     "user_tz": 180
    },
    "id": "Gg94QAPjhaiu",
    "outputId": "57c54529-1b43-4747-9736-f9972aedd8df"
   },
   "outputs": [
    {
     "name": "stderr",
     "output_type": "stream",
     "text": [
      "D:\\Programs\\anaconda3\\envs\\tf-gpu\\lib\\site-packages\\scipy\\__init__.py:146: UserWarning: A NumPy version >=1.16.5 and <1.23.0 is required for this version of SciPy (detected version 1.23.1\n",
      "  warnings.warn(f\"A NumPy version >={np_minversion} and <{np_maxversion}\"\n"
     ]
    },
    {
     "name": "stdout",
     "output_type": "stream",
     "text": [
      "Epoch 1/5\n",
      "1563/1563 [==============================] - 548s 327ms/step - loss: 0.4517 - acc: 0.8493 - val_loss: 0.3983 - val_acc: 0.8825\n",
      "\n",
      "Epoch 00001: val_acc improved from -inf to 0.88250, saving model to cifar10.h5\n"
     ]
    },
    {
     "name": "stderr",
     "output_type": "stream",
     "text": [
      "D:\\Programs\\anaconda3\\envs\\tf-gpu\\lib\\site-packages\\keras\\utils\\generic_utils.py:494: CustomMaskWarning: Custom mask layers require a config and must override get_config. When loading, the custom mask layer must be passed to the custom_objects argument.\n",
      "  warnings.warn('Custom mask layers require a config and must override '\n"
     ]
    },
    {
     "name": "stdout",
     "output_type": "stream",
     "text": [
      "Epoch 2/5\n",
      "1563/1563 [==============================] - 507s 324ms/step - loss: 0.1944 - acc: 0.9343 - val_loss: 0.4775 - val_acc: 0.8829\n",
      "\n",
      "Epoch 00002: val_acc improved from 0.88250 to 0.88290, saving model to cifar10.h5\n",
      "Epoch 3/5\n",
      "1563/1563 [==============================] - 508s 325ms/step - loss: 0.1050 - acc: 0.9641 - val_loss: 0.4148 - val_acc: 0.9040\n",
      "\n",
      "Epoch 00003: val_acc improved from 0.88290 to 0.90400, saving model to cifar10.h5\n",
      "Epoch 4/5\n",
      "1563/1563 [==============================] - 507s 324ms/step - loss: 0.0663 - acc: 0.9791 - val_loss: 0.3548 - val_acc: 0.9102\n",
      "\n",
      "Epoch 00004: val_acc improved from 0.90400 to 0.91020, saving model to cifar10.h5\n",
      "Epoch 5/5\n",
      "1563/1563 [==============================] - 507s 324ms/step - loss: 0.0497 - acc: 0.9840 - val_loss: 0.4684 - val_acc: 0.9104\n",
      "\n",
      "Epoch 00005: val_acc improved from 0.91020 to 0.91040, saving model to cifar10.h5\n"
     ]
    }
   ],
   "source": [
    "#!/usr/bin/env python3\n",
    "\"\"\"\n",
    "Transfer Learning.\n",
    "\"\"\"\n",
    "import tensorflow.keras as K\n",
    "import numpy as np\n",
    "\n",
    "\n",
    "def preprocess_data(X, Y):\n",
    "    \"\"\"Preprocess data for Resnet50.\n",
    "    Args:\n",
    "        X (np.ndarray): matrix of shape (m, 32, 32, 3) containing the CIFAR 10\n",
    "                        data, where m is the number of data points.\n",
    "        Y (np.ndarray): matrix of shape (m,) containing the CIFAR 10 labels\n",
    "                        for X.\n",
    "    Returns:\n",
    "        X is a numpy.ndarray containing the preprocessed X\n",
    "        Y is a numpy.ndarray containing the preprocessed Y\n",
    "    \"\"\"\n",
    "    X_p = K.applications.resnet50.preprocess_input(X)\n",
    "    Y_p = K.utils.to_categorical(Y, 10)\n",
    "\n",
    "    return X_p, Y_p\n",
    "\n",
    "\n",
    "if __name__ == '__main__':\n",
    "    (xtn, ytn), (xtt, ytt) = K.datasets.cifar10.load_data()\n",
    "\n",
    "    xtn, ytn = preprocess_data(xtn, ytn)\n",
    "    xtt, ytt = preprocess_data(xtt, ytt)\n",
    "\n",
    "    model = K.applications.ResNet50(include_top=False,\n",
    "                                    weights='imagenet',\n",
    "                                    input_shape=(224, 224, 3))\n",
    "    \n",
    "    for layer in model.layers[:143]:\n",
    "      layer.trainable = False\n",
    "\n",
    "    model_1 = K.Sequential()\n",
    "    model_1.add(K.layers.UpSampling2D((7, 7)))\n",
    "    model_1.add(model)\n",
    "    model_1.add(K.layers.AveragePooling2D(pool_size=7))\n",
    "    model_1.add(K.layers.Flatten())\n",
    "    model_1.add(K.layers.Dense(10, activation=('softmax')))\n",
    "\n",
    "    check = K.callbacks.ModelCheckpoint(filepath='cifar10.h5',\n",
    "                                        monitor='val_acc',\n",
    "                                        mode='max',\n",
    "                                        verbose=1,\n",
    "                                        save_best_only=True)\n",
    "\n",
    "    model_1.compile(optimizer=K.optimizers.RMSprop(learning_rate=1e-4),\n",
    "                    loss='categorical_crossentropy',\n",
    "                    metrics=['acc'])\n",
    "\n",
    "    model_1.fit(xtn, ytn,\n",
    "                validation_data=(xtt, ytt),\n",
    "                batch_size=32,\n",
    "                epochs=5,\n",
    "                verbose=1,\n",
    "                callbacks=[check])\n",
    "\n",
    "    model_1.save('cifar10.h5')"
   ]
  },
  {
   "cell_type": "code",
   "execution_count": null,
   "metadata": {},
   "outputs": [],
   "source": []
  }
 ],
 "metadata": {
  "accelerator": "GPU",
  "colab": {
   "authorship_tag": "ABX9TyOhuA9wjv2CUMtnb06+SS/V",
   "collapsed_sections": [],
   "provenance": []
  },
  "kernelspec": {
   "display_name": "Python 3 (ipykernel)",
   "language": "python",
   "name": "python3"
  },
  "language_info": {
   "codemirror_mode": {
    "name": "ipython",
    "version": 3
   },
   "file_extension": ".py",
   "mimetype": "text/x-python",
   "name": "python",
   "nbconvert_exporter": "python",
   "pygments_lexer": "ipython3",
   "version": "3.9.12"
  }
 },
 "nbformat": 4,
 "nbformat_minor": 1
}
