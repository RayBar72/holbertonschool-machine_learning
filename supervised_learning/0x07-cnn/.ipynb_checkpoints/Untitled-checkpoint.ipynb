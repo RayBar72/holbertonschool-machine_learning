{
 "cells": [
  {
   "cell_type": "code",
   "execution_count": 3,
   "id": "8b4f5846",
   "metadata": {},
   "outputs": [],
   "source": [
    "#!/usr/bin/env python3\n",
    "'''\n",
    "Modulus that builds a modified version of the LeNet-5\n",
    "architecture using keras\n",
    "'''\n",
    "import tensorflow.keras as K\n",
    "\n",
    "\n",
    "def lenet5(X):\n",
    "    '''\n",
    "    Function that builds a modified version of the LeNet-5\n",
    "    architecture using keras\n",
    "    '''\n",
    "    L = K.layers.Conv2D(6, (5, 5), padding='same', activation='relu', kernel_initializer ='he_normal')(X)\n",
    "    L = K.layers.MaxPool2D(pool_size=(2, 2), strides=(2, 2))(L)\n",
    "    L = K.layers.Conv2D(16, (5, 5), padding='valid', activation='relu', kernel_initializer ='he_normal')(L)\n",
    "    L = K.layers.MaxPool2D(pool_size=(2, 2), strides=(2, 2))(L)\n",
    "    L = K.layers. Flatten()(L)\n",
    "\n",
    "    L = K.layers.Dense(120, activation='relu', kernel_initializer ='he_normal')(L)\n",
    "    L = K.layers.Dense(84, activation='relu', kernel_initializer ='he_normal')(L)\n",
    "    L = K.layers.Dense(10, activation='softmax', kernel_initializer ='he_normal')(L)\n",
    "\n",
    "    model = K.models.Model(X, L)\n",
    "    adam = K.optimizers.Adam()\n",
    "    model.compile(optimizer=adam, loss='categorical_crossentropy', metrics=['accuracy'])\n",
    "    return model\n"
   ]
  },
  {
   "cell_type": "code",
   "execution_count": 4,
   "id": "f1b10fee",
   "metadata": {},
   "outputs": [
    {
     "ename": "AttributeError",
     "evalue": "module 'tensorflow.keras' has no attribute 'model'",
     "output_type": "error",
     "traceback": [
      "\u001b[1;31m---------------------------------------------------------------------------\u001b[0m",
      "\u001b[1;31mAttributeError\u001b[0m                            Traceback (most recent call last)",
      "Input \u001b[1;32mIn [4]\u001b[0m, in \u001b[0;36m<cell line: 20>\u001b[1;34m()\u001b[0m\n\u001b[0;32m     30\u001b[0m Y_valid_oh \u001b[38;5;241m=\u001b[39m K\u001b[38;5;241m.\u001b[39mutils\u001b[38;5;241m.\u001b[39mto_categorical(Y_valid, num_classes\u001b[38;5;241m=\u001b[39m\u001b[38;5;241m10\u001b[39m)\n\u001b[0;32m     31\u001b[0m X \u001b[38;5;241m=\u001b[39m K\u001b[38;5;241m.\u001b[39mInput(shape\u001b[38;5;241m=\u001b[39m(h, w, \u001b[38;5;241m1\u001b[39m))\n\u001b[1;32m---> 32\u001b[0m model \u001b[38;5;241m=\u001b[39m \u001b[43mlenet5\u001b[49m\u001b[43m(\u001b[49m\u001b[43mX\u001b[49m\u001b[43m)\u001b[49m\n\u001b[0;32m     33\u001b[0m batch_size \u001b[38;5;241m=\u001b[39m \u001b[38;5;241m32\u001b[39m\n\u001b[0;32m     34\u001b[0m epochs \u001b[38;5;241m=\u001b[39m \u001b[38;5;241m5\u001b[39m\n",
      "Input \u001b[1;32mIn [3]\u001b[0m, in \u001b[0;36mlenet5\u001b[1;34m(X)\u001b[0m\n\u001b[0;32m     21\u001b[0m L \u001b[38;5;241m=\u001b[39m K\u001b[38;5;241m.\u001b[39mlayers\u001b[38;5;241m.\u001b[39mDense(\u001b[38;5;241m84\u001b[39m, activation\u001b[38;5;241m=\u001b[39m\u001b[38;5;124m'\u001b[39m\u001b[38;5;124mrelu\u001b[39m\u001b[38;5;124m'\u001b[39m, kernel_initializer \u001b[38;5;241m=\u001b[39m\u001b[38;5;124m'\u001b[39m\u001b[38;5;124mhe_normal\u001b[39m\u001b[38;5;124m'\u001b[39m)(L)\n\u001b[0;32m     22\u001b[0m L \u001b[38;5;241m=\u001b[39m K\u001b[38;5;241m.\u001b[39mlayers\u001b[38;5;241m.\u001b[39mDense(\u001b[38;5;241m10\u001b[39m, activation\u001b[38;5;241m=\u001b[39m\u001b[38;5;124m'\u001b[39m\u001b[38;5;124msoftmax\u001b[39m\u001b[38;5;124m'\u001b[39m, kernel_initializer \u001b[38;5;241m=\u001b[39m\u001b[38;5;124m'\u001b[39m\u001b[38;5;124mhe_normal\u001b[39m\u001b[38;5;124m'\u001b[39m)(L)\n\u001b[1;32m---> 24\u001b[0m model \u001b[38;5;241m=\u001b[39m \u001b[43mK\u001b[49m\u001b[38;5;241;43m.\u001b[39;49m\u001b[43mmodel\u001b[49m\u001b[38;5;241m.\u001b[39mModel(X, L)\n\u001b[0;32m     25\u001b[0m adam \u001b[38;5;241m=\u001b[39m K\u001b[38;5;241m.\u001b[39moptimizers\u001b[38;5;241m.\u001b[39mAdam()\n\u001b[0;32m     26\u001b[0m model\u001b[38;5;241m.\u001b[39mcompile(optimizer\u001b[38;5;241m=\u001b[39madam, loss\u001b[38;5;241m=\u001b[39m\u001b[38;5;124m'\u001b[39m\u001b[38;5;124mcategorical_crossentropy\u001b[39m\u001b[38;5;124m'\u001b[39m, metrics\u001b[38;5;241m=\u001b[39m[\u001b[38;5;124m'\u001b[39m\u001b[38;5;124maccuracy\u001b[39m\u001b[38;5;124m'\u001b[39m])\n",
      "\u001b[1;31mAttributeError\u001b[0m: module 'tensorflow.keras' has no attribute 'model'"
     ]
    }
   ],
   "source": [
    "#!/usr/bin/env python3\n",
    "\"\"\"\n",
    "Main file\n",
    "\"\"\"\n",
    "# Force Seed - fix for Keras\n",
    "SEED = 0\n",
    "import matplotlib.pyplot as plt\n",
    "import os\n",
    "os.environ['PYTHONHASHSEED'] = str(SEED)\n",
    "import random\n",
    "random.seed(SEED)\n",
    "import numpy as np\n",
    "np.random.seed(SEED)\n",
    "import tensorflow as tf\n",
    "tf.random.set_seed(SEED)\n",
    "import tensorflow.keras as K\n",
    "\n",
    "# lenet5 = __import__('5-lenet5').lenet5\n",
    "\n",
    "if __name__ == \"__main__\":\n",
    "    lib = np.load('../data/MNIST.npz')\n",
    "    X_train = lib['X_train']\n",
    "    m, h, w = X_train.shape\n",
    "    X_train_c = X_train.reshape((-1, h, w, 1))\n",
    "    Y_train = lib['Y_train']\n",
    "    Y_train_oh = K.utils.to_categorical(Y_train, num_classes=10)\n",
    "    X_valid = lib['X_valid']\n",
    "    X_valid_c = X_valid.reshape((-1, h, w, 1))\n",
    "    Y_valid = lib['Y_valid']\n",
    "    Y_valid_oh = K.utils.to_categorical(Y_valid, num_classes=10)\n",
    "    X = K.Input(shape=(h, w, 1))\n",
    "    model = lenet5(X)\n",
    "    batch_size = 32\n",
    "    epochs = 5\n",
    "    model.fit(X_train_c, Y_train_oh, batch_size=batch_size, epochs=epochs,\n",
    "                       validation_data=(X_valid_c, Y_valid_oh))\n",
    "    Y_pred = model.predict(X_valid_c)\n",
    "    print(Y_pred[0])\n",
    "    Y_pred = np.argmax(Y_pred, 1)\n",
    "    plt.imshow(X_valid[0])\n",
    "    plt.title(str(Y_valid[0]) + ' : ' + str(Y_pred[0]))\n",
    "    plt.show()\n"
   ]
  },
  {
   "cell_type": "code",
   "execution_count": null,
   "id": "2059a000",
   "metadata": {},
   "outputs": [],
   "source": []
  }
 ],
 "metadata": {
  "kernelspec": {
   "display_name": "Python 3 (ipykernel)",
   "language": "python",
   "name": "python3"
  },
  "language_info": {
   "codemirror_mode": {
    "name": "ipython",
    "version": 3
   },
   "file_extension": ".py",
   "mimetype": "text/x-python",
   "name": "python",
   "nbconvert_exporter": "python",
   "pygments_lexer": "ipython3",
   "version": "3.9.12"
  }
 },
 "nbformat": 4,
 "nbformat_minor": 5
}
