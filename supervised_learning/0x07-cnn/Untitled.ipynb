{
 "cells": [
  {
   "cell_type": "code",
   "execution_count": 5,
   "id": "8b4f5846",
   "metadata": {},
   "outputs": [],
   "source": [
    "#!/usr/bin/env python3\n",
    "'''\n",
    "Modulus that builds a modified version of the LeNet-5\n",
    "architecture using keras\n",
    "'''\n",
    "import tensorflow.keras as K\n",
    "\n",
    "\n",
    "def lenet5(X):\n",
    "    '''\n",
    "    Function that builds a modified version of the LeNet-5\n",
    "    architecture using keras\n",
    "    '''\n",
    "    L = K.layers.Conv2D(6, (5, 5), padding='same', activation='relu', kernel_initializer ='he_normal')(X)\n",
    "    L = K.layers.MaxPool2D(pool_size=(2, 2), strides=(2, 2))(L)\n",
    "    L = K.layers.Conv2D(16, (5, 5), padding='valid', activation='relu', kernel_initializer ='he_normal')(L)\n",
    "    L = K.layers.MaxPool2D(pool_size=(2, 2), strides=(2, 2))(L)\n",
    "    L = K.layers. Flatten()(L)\n",
    "\n",
    "    L = K.layers.Dense(120, activation='relu', kernel_initializer ='he_normal')(L)\n",
    "    L = K.layers.Dense(84, activation='relu', kernel_initializer ='he_normal')(L)\n",
    "    L = K.layers.Dense(10, activation='softmax', kernel_initializer ='he_normal')(L)\n",
    "\n",
    "    model = K.Model(X, L)\n",
    "    adam = K.optimizers.Adam()\n",
    "    model.compile(optimizer=adam, loss='categorical_crossentropy', metrics=['accuracy'])\n",
    "    return model\n"
   ]
  },
  {
   "cell_type": "code",
   "execution_count": 6,
   "id": "ef98b68f",
   "metadata": {},
   "outputs": [
    {
     "name": "stdout",
     "output_type": "stream",
     "text": [
      "Epoch 1/5\n",
      "1563/1563 [==============================] - 16s 6ms/step - loss: 0.1659 - accuracy: 0.9488 - val_loss: 0.0631 - val_accuracy: 0.9815\n",
      "Epoch 2/5\n",
      "1563/1563 [==============================] - 9s 6ms/step - loss: 0.0603 - accuracy: 0.9810 - val_loss: 0.0573 - val_accuracy: 0.9831\n",
      "Epoch 3/5\n",
      "1563/1563 [==============================] - 9s 6ms/step - loss: 0.0412 - accuracy: 0.9870 - val_loss: 0.0453 - val_accuracy: 0.9857\n",
      "Epoch 4/5\n",
      "1563/1563 [==============================] - 9s 6ms/step - loss: 0.0344 - accuracy: 0.9896 - val_loss: 0.0430 - val_accuracy: 0.9870\n",
      "Epoch 5/5\n",
      "1563/1563 [==============================] - 9s 6ms/step - loss: 0.0257 - accuracy: 0.9917 - val_loss: 0.0444 - val_accuracy: 0.9879\n",
      "[1.3724893e-14 8.5010714e-11 1.5515292e-12 1.0000000e+00 2.2760556e-17\n",
      " 1.9661552e-09 7.0564079e-14 1.9629185e-12 5.4041455e-11 7.1669400e-11]\n"
     ]
    },
    {
     "data": {
      "image/png": "[encoded data removed]",
      "text/plain": [
       "<Figure size 640x480 with 1 Axes>"
      ]
     },
     "metadata": {},
     "output_type": "display_data"
    }
   ],
   "source": [
    "#!/usr/bin/env python3\n",
    "\"\"\"\n",
    "Main file\n",
    "\"\"\"\n",
    "# Force Seed - fix for Keras\n",
    "SEED = 0\n",
    "import matplotlib.pyplot as plt\n",
    "import os\n",
    "os.environ['PYTHONHASHSEED'] = str(SEED)\n",
    "import random\n",
    "random.seed(SEED)\n",
    "import numpy as np\n",
    "np.random.seed(SEED)\n",
    "import tensorflow as tf\n",
    "tf.random.set_seed(SEED)\n",
    "import tensorflow.keras as K\n",
    "\n",
    "# lenet5 = __import__('5-lenet5').lenet5\n",
    "\n",
    "if __name__ == \"__main__\":\n",
    "    lib = np.load('../data/MNIST.npz')\n",
    "    X_train = lib['X_train']\n",
    "    m, h, w = X_train.shape\n",
    "    X_train_c = X_train.reshape((-1, h, w, 1))\n",
    "    Y_train = lib['Y_train']\n",
    "    Y_train_oh = K.utils.to_categorical(Y_train, num_classes=10)\n",
    "    X_valid = lib['X_valid']\n",
    "    X_valid_c = X_valid.reshape((-1, h, w, 1))\n",
    "    Y_valid = lib['Y_valid']\n",
    "    Y_valid_oh = K.utils.to_categorical(Y_valid, num_classes=10)\n",
    "    X = K.Input(shape=(h, w, 1))\n",
    "    model = lenet5(X)\n",
    "    batch_size = 32\n",
    "    epochs = 5\n",
    "    model.fit(X_train_c, Y_train_oh, batch_size=batch_size, epochs=epochs,\n",
    "                       validation_data=(X_valid_c, Y_valid_oh))\n",
    "    Y_pred = model.predict(X_valid_c)\n",
    "    print(Y_pred[0])\n",
    "    Y_pred = np.argmax(Y_pred, 1)\n",
    "    plt.imshow(X_valid[0])\n",
    "    plt.title(str(Y_valid[0]) + ' : ' + str(Y_pred[0]))\n",
    "    plt.show()\n"
   ]
  },
  {
   "cell_type": "code",
   "execution_count": null,
   "id": "8b707a7e",
   "metadata": {},
   "outputs": [],
   "source": []
  }
 ],
 "metadata": {
  "kernelspec": {
   "display_name": "Python 3 (ipykernel)",
   "language": "python",
   "name": "python3"
  },
  "language_info": {
   "codemirror_mode": {
    "name": "ipython",
    "version": 3
   },
   "file_extension": ".py",
   "mimetype": "text/x-python",
   "name": "python",
   "nbconvert_exporter": "python",
   "pygments_lexer": "ipython3",
   "version": "3.9.12"
  }
 },
 "nbformat": 4,
 "nbformat_minor": 5
}
