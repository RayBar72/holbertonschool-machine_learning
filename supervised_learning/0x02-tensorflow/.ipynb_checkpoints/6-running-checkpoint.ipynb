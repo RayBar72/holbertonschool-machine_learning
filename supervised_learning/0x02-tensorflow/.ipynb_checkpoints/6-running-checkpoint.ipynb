{
 "cells": [
  {
   "cell_type": "code",
   "execution_count": 2,
   "id": "7cfcc089",
   "metadata": {},
   "outputs": [
    {
     "ename": "AttributeError",
     "evalue": "module 'tensorflow' has no attribute 'disable_eager_execution'",
     "output_type": "error",
     "traceback": [
      "\u001b[1;31m---------------------------------------------------------------------------\u001b[0m",
      "\u001b[1;31mAttributeError\u001b[0m                            Traceback (most recent call last)",
      "Input \u001b[1;32mIn [2]\u001b[0m, in \u001b[0;36m<cell line: 3>\u001b[1;34m()\u001b[0m\n\u001b[0;32m      1\u001b[0m \u001b[38;5;28;01mimport\u001b[39;00m \u001b[38;5;21;01mnumpy\u001b[39;00m \u001b[38;5;28;01mas\u001b[39;00m \u001b[38;5;21;01mnp\u001b[39;00m\n\u001b[0;32m      2\u001b[0m \u001b[38;5;28;01mimport\u001b[39;00m \u001b[38;5;21;01mtensorflow\u001b[39;00m \u001b[38;5;28;01mas\u001b[39;00m \u001b[38;5;21;01mtf\u001b[39;00m\n\u001b[1;32m----> 3\u001b[0m \u001b[43mtf\u001b[49m\u001b[38;5;241;43m.\u001b[39;49m\u001b[43mdisable_eager_execution\u001b[49m()\n\u001b[0;32m      4\u001b[0m train \u001b[38;5;241m=\u001b[39m \u001b[38;5;28m__import__\u001b[39m(\u001b[38;5;124m'\u001b[39m\u001b[38;5;124m6-train\u001b[39m\u001b[38;5;124m'\u001b[39m)\u001b[38;5;241m.\u001b[39mtrain\n\u001b[0;32m      6\u001b[0m \u001b[38;5;28;01mdef\u001b[39;00m \u001b[38;5;21mone_hot\u001b[39m(Y, classes):\n",
      "\u001b[1;31mAttributeError\u001b[0m: module 'tensorflow' has no attribute 'disable_eager_execution'"
     ]
    }
   ],
   "source": [
    "import numpy as np\n",
    "import tensorflow.compat.v1 as tf\n",
    "tf.disable_eager_execution()\n",
    "train = __import__('6-train').train\n",
    "\n",
    "def one_hot(Y, classes):\n",
    "    \"\"\"convert an array to a one-hot matrix\"\"\"\n",
    "    one_hot = np.zeros((Y.shape[0], classes))\n",
    "    one_hot[np.arange(Y.shape[0]), Y] = 1\n",
    "    return one_hot\n",
    "\n",
    "if __name__ == '__main__':\n",
    "    lib= np.load('../data/MNIST.npz')\n",
    "    X_train_3D = lib['X_train']\n",
    "    Y_train = lib['Y_train']\n",
    "    X_train = X_train_3D.reshape((X_train_3D.shape[0], -1))\n",
    "    Y_train_oh = one_hot(Y_train, 10)\n",
    "    X_valid_3D = lib['X_valid']\n",
    "    Y_valid = lib['Y_valid']\n",
    "    X_valid = X_valid_3D.reshape((X_valid_3D.shape[0], -1))\n",
    "    Y_valid_oh = one_hot(Y_valid, 10)\n",
    "\n",
    "    layer_sizes = [256, 256, 10]\n",
    "    activations = [tf.nn.tanh, tf.nn.tanh, None]\n",
    "    alpha = 0.01\n",
    "    iterations = 1000\n",
    "\n",
    "    tf.random.set_seed(0)\n",
    "    save_path = train(X_train, Y_train_oh, X_valid, Y_valid_oh, layer_sizes,\n",
    "                      activations, alpha, iterations, save_path=\"./model.ckpt\")\n",
    "    print(\"Model saved in path: {}\".format(save_path))"
   ]
  },
  {
   "cell_type": "code",
   "execution_count": null,
   "id": "fbfcdf63",
   "metadata": {},
   "outputs": [],
   "source": [
    "import matplotlib.pyplot as plt\n",
    "import numpy as np\n",
    "import tensorflow.compat.v1 as tf\n",
    "tf.disable_eager_execution()\n",
    "evaluate = __import__('7-evaluate').evaluate\n",
    "\n",
    "def one_hot(Y, classes):\n",
    "    \"\"\"convert an array to a one-hot matrix\"\"\"\n",
    "    one_hot = np.zeros((Y.shape[0], classes))\n",
    "    one_hot[np.arange(Y.shape[0]), Y] = 1\n",
    "    return one_hot\n",
    "\n",
    "if __name__ == '__main__':\n",
    "    lib= np.load('../data/MNIST.npz')\n",
    "    X_test_3D = lib['X_test']\n",
    "    Y_test = lib['Y_test']\n",
    "    X_test = X_test_3D.reshape((X_test_3D.shape[0], -1))\n",
    "    Y_test_oh = one_hot(Y_test, 10)\n",
    "\n",
    "    Y_pred_oh, accuracy, cost = evaluate(X_test, Y_test_oh, './model.ckpt')\n",
    "    print(\"Test Accuracy:\", accuracy)\n",
    "    print(\"Test Cost:\", cost)\n",
    "\n",
    "    Y_pred = np.argmax(Y_pred_oh, axis=1)\n",
    "\n",
    "    fig = plt.figure(figsize=(10, 10))\n",
    "    for i in range(100):\n",
    "        fig.add_subplot(10, 10, i + 1)\n",
    "        plt.imshow(X_test_3D[i])\n",
    "        plt.title(str(Y_test[i]) + ' : ' + str(Y_pred[i]))\n",
    "        plt.axis('off')\n",
    "    plt.tight_layout()\n",
    "    plt.show()"
   ]
  },
  {
   "cell_type": "code",
   "execution_count": null,
   "id": "1099d6d0",
   "metadata": {},
   "outputs": [],
   "source": []
  }
 ],
 "metadata": {
  "kernelspec": {
   "display_name": "Python 3 (ipykernel)",
   "language": "python",
   "name": "python3"
  },
  "language_info": {
   "codemirror_mode": {
    "name": "ipython",
    "version": 3
   },
   "file_extension": ".py",
   "mimetype": "text/x-python",
   "name": "python",
   "nbconvert_exporter": "python",
   "pygments_lexer": "ipython3",
   "version": "3.9.12"
  }
 },
 "nbformat": 4,
 "nbformat_minor": 5
}
