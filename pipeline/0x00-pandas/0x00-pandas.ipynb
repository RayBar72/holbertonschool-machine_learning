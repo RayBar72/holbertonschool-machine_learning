{
 "cells": [
  {
   "cell_type": "markdown",
   "id": "528362c0",
   "metadata": {},
   "source": [
    "# 0. From Numpy"
   ]
  },
  {
   "cell_type": "code",
   "execution_count": 3,
   "id": "e892d3af",
   "metadata": {},
   "outputs": [],
   "source": [
    "#!/usr/bin/env python3\n",
    "\"\"\"\n",
    "0-from_numpy.py\n",
    "\"\"\"\n",
    "import numpy as np\n",
    "import pandas as pd\n",
    "\n",
    "\n",
    "def from_numpy(array):\n",
    "    \"\"\"\n",
    "    Function that creates a pd.DataFrame from a np.ndarray:\n",
    "\n",
    "    Parameters\n",
    "    ----------\n",
    "    array : np.ndarray\n",
    "        Is the np.ndarray from which you should create the pd.DataFrame.\n",
    "\n",
    "    Returns\n",
    "    -------\n",
    "    pd.Dataframe.\n",
    "\n",
    "    \"\"\"\n",
    "    alfabeto = list(map(chr, range(65, 65 + array.shape[1])))\n",
    "    data = pd.DataFrame(array, columns=alfabeto)\n",
    "    return data\n"
   ]
  },
  {
   "cell_type": "code",
   "execution_count": 4,
   "id": "7efa7b45",
   "metadata": {},
   "outputs": [
    {
     "name": "stdout",
     "output_type": "stream",
     "text": [
      "          A         B         C         D         E         F         G  \\\n",
      "0  1.764052  0.400157  0.978738  2.240893  1.867558 -0.977278  0.950088   \n",
      "1 -0.103219  0.410599  0.144044  1.454274  0.761038  0.121675  0.443863   \n",
      "2  1.494079 -0.205158  0.313068 -0.854096 -2.552990  0.653619  0.864436   \n",
      "3  2.269755 -1.454366  0.045759 -0.187184  1.532779  1.469359  0.154947   \n",
      "4 -0.887786 -1.980796 -0.347912  0.156349  1.230291  1.202380 -0.387327   \n",
      "\n",
      "          H  \n",
      "0 -0.151357  \n",
      "1  0.333674  \n",
      "2 -0.742165  \n",
      "3  0.378163  \n",
      "4 -0.302303  \n",
      "          A         B         C\n",
      "0 -1.048553 -1.420018 -1.706270\n",
      "1  1.950775 -0.509652 -0.438074\n",
      "2 -1.252795  0.777490 -1.613898\n",
      "3 -0.212740 -0.895467  0.386902\n",
      "4 -0.510805 -1.180632 -0.028182\n",
      "5  0.428332  0.066517  0.302472\n",
      "6 -0.634322 -0.362741 -0.672460\n",
      "7 -0.359553 -0.813146 -1.726283\n",
      "8  0.177426 -0.401781 -1.630198\n"
     ]
    }
   ],
   "source": [
    "#!/usr/bin/env python3\n",
    "\n",
    "import numpy as np\n",
    "# from_numpy = __import__('0-from_numpy').from_numpy\n",
    "\n",
    "np.random.seed(0)\n",
    "A = np.random.randn(5, 8)\n",
    "print(from_numpy(A))\n",
    "B = np.random.randn(9, 3)\n",
    "print(from_numpy(B))\n"
   ]
  },
  {
   "cell_type": "markdown",
   "id": "a96e6f34",
   "metadata": {},
   "source": [
    "# 1. From Dictionary"
   ]
  },
  {
   "cell_type": "code",
   "execution_count": 1,
   "id": "704a6617",
   "metadata": {},
   "outputs": [],
   "source": [
    "#!/usr/bin/env python3\n",
    "\"\"\"\n",
    "1-from_dictionary.py\n",
    "\"\"\"\n",
    "import pandas as pd\n",
    "\n",
    "\n",
    "diccionario = {\n",
    "    'First': pd.Series([0.0, 0.5, 1.0, 1.5], index=['A', 'B', 'C', 'D']),\n",
    "    'Second': pd.Series(['one', 'two', 'three', 'four'], index=['A', 'B', 'C', 'D'])\n",
    "}\n",
    "frame = pd.DataFrame(diccionario)\n",
    "globals()['df'] = frame\n"
   ]
  },
  {
   "cell_type": "code",
   "execution_count": 2,
   "id": "845842e8",
   "metadata": {},
   "outputs": [
    {
     "name": "stdout",
     "output_type": "stream",
     "text": [
      "   First Second\n",
      "A    0.0    one\n",
      "B    0.5    two\n",
      "C    1.0  three\n",
      "D    1.5   four\n"
     ]
    }
   ],
   "source": [
    "#!/usr/bin/env python3\n",
    "\n",
    "# df = __import__('1-from_dictionary').df\n",
    "\n",
    "print(df)\n"
   ]
  },
  {
   "cell_type": "markdown",
   "id": "49b66cdc",
   "metadata": {},
   "source": [
    "# 2. From File "
   ]
  },
  {
   "cell_type": "code",
   "execution_count": 2,
   "id": "bcda4c5e",
   "metadata": {},
   "outputs": [],
   "source": [
    "#!/usr/bin/env python3\n",
    "\"\"\"\n",
    "2-from_file.py\n",
    "\"\"\"\n",
    "import numpy as np\n",
    "import pandas as pd\n",
    "\n",
    "\n",
    "def from_file(filename, delimiter):\n",
    "    \"\"\"Function that loads data from a file as a pd.DataFrame:\n",
    "\n",
    "    Args:\n",
    "        filename: File to load from.\n",
    "        delimiter (str): column separetor\n",
    "    \"\"\"\n",
    "    return pd.read_table(filename, sep=delimiter)\n"
   ]
  },
  {
   "cell_type": "code",
   "execution_count": 4,
   "id": "23c07fb1",
   "metadata": {},
   "outputs": [
    {
     "name": "stdout",
     "output_type": "stream",
     "text": [
      "    Timestamp   Open   High    Low  Close  Volume_(BTC)  Volume_(Currency)  \\\n",
      "0  1417411980  300.0  300.0  300.0  300.0          0.01                3.0   \n",
      "1  1417412040    NaN    NaN    NaN    NaN           NaN                NaN   \n",
      "2  1417412100    NaN    NaN    NaN    NaN           NaN                NaN   \n",
      "3  1417412160    NaN    NaN    NaN    NaN           NaN                NaN   \n",
      "4  1417412220    NaN    NaN    NaN    NaN           NaN                NaN   \n",
      "\n",
      "   Weighted_Price  \n",
      "0           300.0  \n",
      "1             NaN  \n",
      "2             NaN  \n",
      "3             NaN  \n",
      "4             NaN  \n",
      "          Timestamp     Open     High      Low    Close  Volume_(BTC)  \\\n",
      "4363452  1587513360  6847.97  6856.35  6847.97  6856.35      0.125174   \n",
      "4363453  1587513420  6850.23  6856.13  6850.23  6850.89      1.224777   \n",
      "4363454  1587513480  6846.50  6857.45  6846.02  6857.45      7.089168   \n",
      "4363455  1587513540  6854.18  6854.98  6854.18  6854.98      0.012231   \n",
      "4363456  1587513600  6850.60  6850.60  6850.60  6850.60      0.014436   \n",
      "\n",
      "         Volume_(Currency)  Weighted_Price  \n",
      "4363452         858.128697     6855.498790  \n",
      "4363453        8396.781459     6855.763449  \n",
      "4363454       48533.089069     6846.090966  \n",
      "4363455          83.831604     6854.195090  \n",
      "4363456          98.896906     6850.600000  \n"
     ]
    }
   ],
   "source": [
    "#!/usr/bin/env python3\n",
    "\n",
    "# from_file = __import__('2-from_file').from_file\n",
    "\n",
    "df1 = from_file('coinbaseUSD_1-min_data_2014-12-01_to_2019-01-09.csv', ',')\n",
    "print(df1.head())\n",
    "df2 = from_file('bitstampUSD_1-min_data_2012-01-01_to_2020-04-22.csv', ',')\n",
    "print(df2.tail())\n"
   ]
  },
  {
   "cell_type": "markdown",
   "id": "92ed1c72",
   "metadata": {},
   "source": [
    "# 3. Rename"
   ]
  },
  {
   "cell_type": "code",
   "execution_count": 46,
   "id": "fe05a253",
   "metadata": {},
   "outputs": [
    {
     "name": "stdout",
     "output_type": "stream",
     "text": [
      "                   Datetime    Close\n",
      "2099755 2019-01-07 22:02:00  4006.01\n",
      "2099756 2019-01-07 22:03:00  4006.01\n",
      "2099757 2019-01-07 22:04:00  4006.01\n",
      "2099758 2019-01-07 22:05:00  4005.50\n",
      "2099759 2019-01-07 22:06:00  4005.99\n"
     ]
    }
   ],
   "source": [
    "#!/usr/bin/env python3\n",
    "\n",
    "import pandas as pd\n",
    "# from_file = __import__('2-from_file').from_file\n",
    "\n",
    "df = from_file('coinbaseUSD_1-min_data_2014-12-01_to_2019-01-09.csv', ',')\n",
    "\n",
    "df = df.rename(columns={'Timestamp': 'Datetime'})\n",
    "df['Datetime'] = pd.to_datetime(df['Datetime'], unit='s')\n",
    "df = df[['Datetime', 'Close']]\n",
    "\n",
    "print(df.tail())\n"
   ]
  },
  {
   "cell_type": "markdown",
   "id": "6e2c789d",
   "metadata": {},
   "source": [
    "# 4. To Numpy"
   ]
  },
  {
   "cell_type": "code",
   "execution_count": 10,
   "id": "7c1d1f0a",
   "metadata": {},
   "outputs": [
    {
     "name": "stdout",
     "output_type": "stream",
     "text": [
      "[[4009.54 4007.01]\n",
      " [4007.01 4003.49]\n",
      " [4007.29 4006.57]\n",
      " [4006.57 4006.56]\n",
      " [4006.57 4006.01]\n",
      " [4006.57 4006.01]\n",
      " [4006.57 4006.01]\n",
      " [4006.01 4006.01]\n",
      " [4006.01 4005.5 ]\n",
      " [4006.01 4005.99]]\n"
     ]
    }
   ],
   "source": [
    "#!/usr/bin/env python3\n",
    "\n",
    "import pandas as pd\n",
    "# from_file = __import__('2-from_file').from_file\n",
    "\n",
    "df = from_file('coinbaseUSD_1-min_data_2014-12-01_to_2019-01-09.csv', ',')\n",
    "\n",
    "A = df[['High', 'Close']].tail(10).to_numpy()\n",
    "\n",
    "print(A)"
   ]
  },
  {
   "cell_type": "markdown",
   "id": "cd045e80",
   "metadata": {},
   "source": [
    "# 5. Slice"
   ]
  },
  {
   "cell_type": "code",
   "execution_count": 19,
   "id": "bf7b55da",
   "metadata": {},
   "outputs": [
    {
     "name": "stdout",
     "output_type": "stream",
     "text": [
      "            High      Low    Close  Volume_(BTC)\n",
      "2099460  4020.08  4020.07  4020.08      4.704989\n",
      "2099520  4020.94  4020.93  4020.94      2.111411\n",
      "2099580  4020.00  4019.01  4020.00      4.637035\n",
      "2099640  4017.00  4016.99  4017.00      2.362372\n",
      "2099700  4014.78  4013.50  4014.72      1.291557\n"
     ]
    }
   ],
   "source": [
    "#!/usr/bin/env python3\n",
    "\n",
    "import pandas as pd\n",
    "# from_file = __import__('2-from_file').from_file\n",
    "\n",
    "df = from_file('coinbaseUSD_1-min_data_2014-12-01_to_2019-01-09.csv', ',')\n",
    "\n",
    "df = df[['High', 'Low', 'Close', 'Volume_(BTC)']][::60]\n",
    "\n",
    "print(df.tail())"
   ]
  },
  {
   "cell_type": "markdown",
   "id": "ef2733b0",
   "metadata": {},
   "source": [
    "# 6. Flip it and Switch it"
   ]
  },
  {
   "cell_type": "code",
   "execution_count": 21,
   "id": "f2e34b57",
   "metadata": {},
   "outputs": [
    {
     "name": "stdout",
     "output_type": "stream",
     "text": [
      "                        2099759       2099758       2099757       2099756  \\\n",
      "Timestamp          1.546899e+09  1.546899e+09  1.546899e+09  1.546899e+09   \n",
      "Open               4.005510e+03  4.006010e+03  4.006010e+03  4.006010e+03   \n",
      "High               4.006010e+03  4.006010e+03  4.006010e+03  4.006570e+03   \n",
      "Low                4.005510e+03  4.005500e+03  4.006000e+03  4.006000e+03   \n",
      "Close              4.005990e+03  4.005500e+03  4.006010e+03  4.006010e+03   \n",
      "Volume_(BTC)       1.752778e+00  2.699700e+00  1.192123e+00  9.021637e-01   \n",
      "Volume_(Currency)  7.021184e+03  1.081424e+04  4.775647e+03  3.614083e+03   \n",
      "Weighted_Price     4.005746e+03  4.005720e+03  4.006004e+03  4.006017e+03   \n",
      "\n",
      "                        2099755       2099754       2099753       2099752  \\\n",
      "Timestamp          1.546899e+09  1.546898e+09  1.546898e+09  1.546898e+09   \n",
      "Open               4.006010e+03  4.006570e+03  4.006560e+03  4.003490e+03   \n",
      "High               4.006570e+03  4.006570e+03  4.006570e+03  4.007290e+03   \n",
      "Low                4.006000e+03  4.006000e+03  4.006560e+03  4.003490e+03   \n",
      "Close              4.006010e+03  4.006010e+03  4.006560e+03  4.006570e+03   \n",
      "Volume_(BTC)       3.382954e+00  6.951222e+00  8.475772e+00  1.183828e+01   \n",
      "Volume_(Currency)  1.355343e+04  2.784951e+04  3.395870e+04  4.741754e+04   \n",
      "Weighted_Price     4.006390e+03  4.006419e+03  4.006561e+03  4.005441e+03   \n",
      "\n",
      "                        2099751       2099750  ...       9        \\\n",
      "Timestamp          1.546898e+09  1.546898e+09  ...  1.417413e+09   \n",
      "Open               4.007000e+03  4.009540e+03  ...           NaN   \n",
      "High               4.007010e+03  4.009540e+03  ...           NaN   \n",
      "Low                4.000240e+03  4.007000e+03  ...           NaN   \n",
      "Close              4.003490e+03  4.007010e+03  ...           NaN   \n",
      "Volume_(BTC)       9.452163e+00  4.540920e+00  ...           NaN   \n",
      "Volume_(Currency)  3.784576e+04  1.819998e+04  ...           NaN   \n",
      "Weighted_Price     4.003925e+03  4.007993e+03  ...           NaN   \n",
      "\n",
      "                        8             7             6             5        \\\n",
      "Timestamp          1.417412e+09  1.417412e+09  1.417412e+09  1.417412e+09   \n",
      "Open                        NaN  3.000000e+02           NaN           NaN   \n",
      "High                        NaN  3.000000e+02           NaN           NaN   \n",
      "Low                         NaN  3.000000e+02           NaN           NaN   \n",
      "Close                       NaN  3.000000e+02           NaN           NaN   \n",
      "Volume_(BTC)                NaN  1.000000e-02           NaN           NaN   \n",
      "Volume_(Currency)           NaN  3.000000e+00           NaN           NaN   \n",
      "Weighted_Price              NaN  3.000000e+02           NaN           NaN   \n",
      "\n",
      "                        4             3             2             1        \\\n",
      "Timestamp          1.417412e+09  1.417412e+09  1.417412e+09  1.417412e+09   \n",
      "Open                        NaN           NaN           NaN           NaN   \n",
      "High                        NaN           NaN           NaN           NaN   \n",
      "Low                         NaN           NaN           NaN           NaN   \n",
      "Close                       NaN           NaN           NaN           NaN   \n",
      "Volume_(BTC)                NaN           NaN           NaN           NaN   \n",
      "Volume_(Currency)           NaN           NaN           NaN           NaN   \n",
      "Weighted_Price              NaN           NaN           NaN           NaN   \n",
      "\n",
      "                        0        \n",
      "Timestamp          1.417412e+09  \n",
      "Open               3.000000e+02  \n",
      "High               3.000000e+02  \n",
      "Low                3.000000e+02  \n",
      "Close              3.000000e+02  \n",
      "Volume_(BTC)       1.000000e-02  \n",
      "Volume_(Currency)  3.000000e+00  \n",
      "Weighted_Price     3.000000e+02  \n",
      "\n",
      "[8 rows x 2099760 columns]\n"
     ]
    }
   ],
   "source": [
    "#!/usr/bin/env python3\n",
    "\n",
    "import pandas as pd\n",
    "# from_file = __import__('2-from_file').from_file\n",
    "\n",
    "df = from_file('coinbaseUSD_1-min_data_2014-12-01_to_2019-01-09.csv', ',')\n",
    "\n",
    "df = df.sort_values(['Timestamp'], ascending=False).T\n",
    "\n",
    "print(df.tail(8))"
   ]
  },
  {
   "cell_type": "markdown",
   "id": "3e23c70a",
   "metadata": {},
   "source": [
    "# 7. Sort"
   ]
  },
  {
   "cell_type": "code",
   "execution_count": 3,
   "id": "b06a4ad9",
   "metadata": {},
   "outputs": [
    {
     "name": "stdout",
     "output_type": "stream",
     "text": [
      "          Timestamp      Open      High       Low     Close  Volume_(BTC)  \\\n",
      "1543350  1513514220  19891.99  19891.99  19891.98  19891.98      3.323210   \n",
      "1543352  1513514340  19891.99  19891.99  19891.98  19891.98      9.836946   \n",
      "1543351  1513514280  19891.99  19891.99  19891.98  19891.98      8.172155   \n",
      "1543349  1513514160  19891.00  19891.99  19890.99  19891.99      1.336512   \n",
      "1543353  1513514400  19891.99  19891.99  19876.22  19884.99     19.925151   \n",
      "\n",
      "         Volume_(Currency)  Weighted_Price  \n",
      "1543350       66105.250870    19891.984712  \n",
      "1543352      195676.363110    19891.983294  \n",
      "1543351      162560.403740    19891.987528  \n",
      "1543349       26584.930278    19891.272886  \n",
      "1543353      396292.881750    19889.078007  \n"
     ]
    }
   ],
   "source": [
    "#!/usr/bin/env python3\n",
    "\n",
    "import pandas as pd\n",
    "# from_file = __import__('2-from_file').from_file\n",
    "\n",
    "df = from_file('coinbaseUSD_1-min_data_2014-12-01_to_2019-01-09.csv', ',')\n",
    "\n",
    "df = df.sort_values('High', ascending=False)\n",
    "\n",
    "print(df.head())"
   ]
  },
  {
   "cell_type": "markdown",
   "id": "cc23f2f2",
   "metadata": {},
   "source": [
    "# 8. Prune"
   ]
  },
  {
   "cell_type": "code",
   "execution_count": 4,
   "id": "1baed359",
   "metadata": {},
   "outputs": [
    {
     "name": "stdout",
     "output_type": "stream",
     "text": [
      "       Timestamp   Open   High    Low  Close  Volume_(BTC)  Volume_(Currency)  \\\n",
      "0     1417411980  300.0  300.0  300.0  300.0      0.010000            3.00000   \n",
      "7     1417412400  300.0  300.0  300.0  300.0      0.010000            3.00000   \n",
      "51    1417415040  370.0  370.0  370.0  370.0      0.010000            3.70000   \n",
      "77    1417416600  370.0  370.0  370.0  370.0      0.026556            9.82555   \n",
      "1436  1417498140  377.0  377.0  377.0  377.0      0.010000            3.77000   \n",
      "\n",
      "      Weighted_Price  \n",
      "0              300.0  \n",
      "7              300.0  \n",
      "51             370.0  \n",
      "77             370.0  \n",
      "1436           377.0  \n"
     ]
    }
   ],
   "source": [
    "#!/usr/bin/env python3\n",
    "\n",
    "import pandas as pd\n",
    "# from_file = __import__('2-from_file').from_file\n",
    "\n",
    "df = from_file('coinbaseUSD_1-min_data_2014-12-01_to_2019-01-09.csv', ',')\n",
    "\n",
    "df = df.dropna(subset=['Close'])\n",
    "\n",
    "print(df.head())"
   ]
  },
  {
   "cell_type": "markdown",
   "id": "6cd1b7a0",
   "metadata": {},
   "source": [
    "# 9. Fill"
   ]
  },
  {
   "cell_type": "code",
   "execution_count": 25,
   "id": "530640d7",
   "metadata": {},
   "outputs": [
    {
     "name": "stdout",
     "output_type": "stream",
     "text": [
      "    Timestamp   Open   High    Low  Close  Volume_(BTC)  Volume_(Currency)\n",
      "0  1417411980  300.0  300.0  300.0  300.0          0.01                3.0\n",
      "1  1417412040  300.0  300.0  300.0  300.0          0.00                0.0\n",
      "2  1417412100  300.0  300.0  300.0  300.0          0.00                0.0\n",
      "3  1417412160  300.0  300.0  300.0  300.0          0.00                0.0\n",
      "4  1417412220  300.0  300.0  300.0  300.0          0.00                0.0\n",
      "          Timestamp     Open     High      Low    Close  Volume_(BTC)  \\\n",
      "2099755  1546898520  4006.01  4006.57  4006.00  4006.01      3.382954   \n",
      "2099756  1546898580  4006.01  4006.57  4006.00  4006.01      0.902164   \n",
      "2099757  1546898640  4006.01  4006.01  4006.00  4006.01      1.192123   \n",
      "2099758  1546898700  4006.01  4006.01  4005.50  4005.50      2.699700   \n",
      "2099759  1546898760  4005.51  4006.01  4005.51  4005.99      1.752778   \n",
      "\n",
      "         Volume_(Currency)  \n",
      "2099755       13553.433078  \n",
      "2099756        3614.083168  \n",
      "2099757        4775.647308  \n",
      "2099758       10814.241898  \n",
      "2099759        7021.183546  \n"
     ]
    }
   ],
   "source": [
    "#!/usr/bin/env python3\n",
    "\n",
    "import pandas as pd\n",
    "# from_file = __import__('2-from_file').from_file\n",
    "\n",
    "df = from_file('coinbaseUSD_1-min_data_2014-12-01_to_2019-01-09.csv', ',')\n",
    "\n",
    "df = df.drop('Weighted_Price', axis=1)\n",
    "df['Close'] = df['Close'].fillna(method='ffill')\n",
    "df['High'] = df['High'].fillna(df['Close'])\n",
    "df['Low'] = df['Low'].fillna(df['Close'])\n",
    "df['Open'] = df['Open'].fillna(df['Close'])\n",
    "df['Volume_(BTC)'] = df['Volume_(BTC)'].fillna(0)\n",
    "df['Volume_(Currency)'] = df['Volume_(Currency)'].fillna(0)\n",
    "\n",
    "\n",
    "print(df.head())\n",
    "print(df.tail())"
   ]
  },
  {
   "cell_type": "markdown",
   "id": "843e4430",
   "metadata": {},
   "source": [
    "# 10. Indexing"
   ]
  },
  {
   "cell_type": "code",
   "execution_count": 27,
   "id": "4c8e3bf7",
   "metadata": {},
   "outputs": [
    {
     "name": "stdout",
     "output_type": "stream",
     "text": [
      "               Open     High      Low    Close  Volume_(BTC)  \\\n",
      "Timestamp                                                      \n",
      "1546898520  4006.01  4006.57  4006.00  4006.01      3.382954   \n",
      "1546898580  4006.01  4006.57  4006.00  4006.01      0.902164   \n",
      "1546898640  4006.01  4006.01  4006.00  4006.01      1.192123   \n",
      "1546898700  4006.01  4006.01  4005.50  4005.50      2.699700   \n",
      "1546898760  4005.51  4006.01  4005.51  4005.99      1.752778   \n",
      "\n",
      "            Volume_(Currency)  Weighted_Price  \n",
      "Timestamp                                      \n",
      "1546898520       13553.433078     4006.390309  \n",
      "1546898580        3614.083168     4006.017232  \n",
      "1546898640        4775.647308     4006.003635  \n",
      "1546898700       10814.241898     4005.719991  \n",
      "1546898760        7021.183546     4005.745614  \n"
     ]
    }
   ],
   "source": [
    "#!/usr/bin/env python3\n",
    "\n",
    "import pandas as pd\n",
    "# from_file = __import__('2-from_file').from_file\n",
    "\n",
    "df = from_file('coinbaseUSD_1-min_data_2014-12-01_to_2019-01-09.csv', ',')\n",
    "\n",
    "df = df.set_index('Timestamp')\n",
    "\n",
    "print(df.tail())"
   ]
  },
  {
   "cell_type": "code",
   "execution_count": 31,
   "id": "d62c9a66",
   "metadata": {},
   "outputs": [
    {
     "name": "stdout",
     "output_type": "stream",
     "text": [
      "                        Open     High      Low    Close  Volume_(BTC)  \\\n",
      "         Timestamp                                                      \n",
      "bitstamp 1325317920     4.39     4.39     4.39     4.39      0.455581   \n",
      "         1325317980      NaN      NaN      NaN      NaN           NaN   \n",
      "         1325318040      NaN      NaN      NaN      NaN           NaN   \n",
      "         1325318100      NaN      NaN      NaN      NaN           NaN   \n",
      "         1325318160      NaN      NaN      NaN      NaN           NaN   \n",
      "...                      ...      ...      ...      ...           ...   \n",
      "coinbase 1546898520  4006.01  4006.57  4006.00  4006.01      3.382954   \n",
      "         1546898580  4006.01  4006.57  4006.00  4006.01      0.902164   \n",
      "         1546898640  4006.01  4006.01  4006.00  4006.01      1.192123   \n",
      "         1546898700  4006.01  4006.01  4005.50  4005.50      2.699700   \n",
      "         1546898760  4005.51  4006.01  4005.51  4005.99      1.752778   \n",
      "\n",
      "                     Volume_(Currency)  Weighted_Price  \n",
      "         Timestamp                                      \n",
      "bitstamp 1325317920           2.000000        4.390000  \n",
      "         1325317980                NaN             NaN  \n",
      "         1325318040                NaN             NaN  \n",
      "         1325318100                NaN             NaN  \n",
      "         1325318160                NaN             NaN  \n",
      "...                                ...             ...  \n",
      "coinbase 1546898520       13553.433078     4006.390309  \n",
      "         1546898580        3614.083168     4006.017232  \n",
      "         1546898640        4775.647308     4006.003635  \n",
      "         1546898700       10814.241898     4005.719991  \n",
      "         1546898760        7021.183546     4005.745614  \n",
      "\n",
      "[3634661 rows x 7 columns]\n"
     ]
    }
   ],
   "source": [
    "#!/usr/bin/env python3\n",
    "\n",
    "import pandas as pd\n",
    "# from_file = __import__('2-from_file').from_file\n",
    "\n",
    "df1 = from_file('coinbaseUSD_1-min_data_2014-12-01_to_2019-01-09.csv', ',')\n",
    "df2 = from_file('bitstampUSD_1-min_data_2012-01-01_to_2020-04-22.csv', ',')\n",
    "\n",
    "df1 = df1.set_index('Timestamp')\n",
    "df2 = df2.set_index('Timestamp')\n",
    "df2 = df2.loc[:'1417411921']\n",
    "\n",
    "df = pd.concat([df2, df1],\n",
    "              keys=['bitstamp', 'coinbase'])\n",
    "\n",
    "print(df)"
   ]
  },
  {
   "cell_type": "markdown",
   "id": "df79a418",
   "metadata": {},
   "source": [
    "# 12. Hierarchy"
   ]
  },
  {
   "cell_type": "code",
   "execution_count": 39,
   "id": "07ca10c2",
   "metadata": {},
   "outputs": [
    {
     "name": "stdout",
     "output_type": "stream",
     "text": [
      "                       Open   High     Low   Close  Volume_(BTC)  \\\n",
      "Timestamp                                                          \n",
      "1417411980 bitstamp  379.99  380.0  379.99  380.00      3.901265   \n",
      "           coinbase  300.00  300.0  300.00  300.00      0.010000   \n",
      "1417412040 bitstamp  380.00  380.0  380.00  380.00     35.249895   \n",
      "           coinbase     NaN    NaN     NaN     NaN           NaN   \n",
      "1417412100 bitstamp  380.00  380.0  380.00  380.00      3.712000   \n",
      "...                     ...    ...     ...     ...           ...   \n",
      "1417417860 coinbase     NaN    NaN     NaN     NaN           NaN   \n",
      "1417417920 bitstamp  380.09  380.1  380.09  380.10      1.503000   \n",
      "           coinbase     NaN    NaN     NaN     NaN           NaN   \n",
      "1417417980 bitstamp  380.10  380.1  378.85  378.85     26.599796   \n",
      "           coinbase     NaN    NaN     NaN     NaN           NaN   \n",
      "\n",
      "                     Volume_(Currency)  Weighted_Price  \n",
      "Timestamp                                               \n",
      "1417411980 bitstamp        1482.461708      379.995162  \n",
      "           coinbase           3.000000      300.000000  \n",
      "1417412040 bitstamp       13394.959997      380.000000  \n",
      "           coinbase                NaN             NaN  \n",
      "1417412100 bitstamp        1410.560000      380.000000  \n",
      "...                                ...             ...  \n",
      "1417417860 coinbase                NaN             NaN  \n",
      "1417417920 bitstamp         571.285290      380.096667  \n",
      "           coinbase                NaN             NaN  \n",
      "1417417980 bitstamp       10079.364182      378.926376  \n",
      "           coinbase                NaN             NaN  \n",
      "\n",
      "[202 rows x 7 columns]\n"
     ]
    }
   ],
   "source": [
    "#!/usr/bin/env python3\n",
    "\n",
    "import pandas as pd\n",
    "# from_file = __import__('2-from_file').from_file\n",
    "\n",
    "df1 = from_file('coinbaseUSD_1-min_data_2014-12-01_to_2019-01-09.csv', ',')\n",
    "df2 = from_file('bitstampUSD_1-min_data_2012-01-01_to_2020-04-22.csv', ',')\n",
    "\n",
    "df1 = df1.set_index('Timestamp')\n",
    "df1 = df1.loc['1417411980':'1417417981']\n",
    "df2 = df2.set_index('Timestamp')\n",
    "df2 = df2.loc['1417411980':'1417417981']\n",
    "\n",
    "df = pd.concat([df2, df1], keys=['bitstamp', 'coinbase'] )\n",
    "df = df.reorder_levels([1, 0])\n",
    "df = df.sort_index()\n",
    "\n",
    "print(df)"
   ]
  },
  {
   "cell_type": "markdown",
   "id": "2ea84057",
   "metadata": {},
   "source": [
    "# 13. Analyze"
   ]
  },
  {
   "cell_type": "code",
   "execution_count": 45,
   "id": "e59796f8",
   "metadata": {},
   "outputs": [
    {
     "name": "stdout",
     "output_type": "stream",
     "text": [
      "              Close          High           Low          Open  Volume_(BTC)  \\\n",
      "count  1.990691e+06  1.990691e+06  1.990691e+06  1.990691e+06  1.990691e+06   \n",
      "mean   3.246403e+03  3.247829e+03  3.244856e+03  3.246403e+03  7.849139e+00   \n",
      "std    3.799150e+03  3.801394e+03  3.796761e+03  3.799154e+03  1.873222e+01   \n",
      "min    6.000000e-02  6.000000e-02  6.000000e-02  6.000000e-02  1.000000e-08   \n",
      "25%    4.195700e+02  4.196400e+02  4.195000e+02  4.195800e+02  9.024000e-01   \n",
      "50%    1.014530e+03  1.014890e+03  1.014150e+03  1.014580e+03  2.692900e+00   \n",
      "75%    6.322670e+03  6.324010e+03  6.321090e+03  6.322630e+03  7.600965e+00   \n",
      "max    1.989199e+04  1.989199e+04  1.989198e+04  1.989199e+04  1.563267e+03   \n",
      "\n",
      "       Volume_(Currency)  Weighted_Price  \n",
      "count       1.990691e+06    1.990691e+06  \n",
      "mean        3.600157e+04    3.246341e+03  \n",
      "std         1.401879e+05    3.799078e+03  \n",
      "min         2.641700e-06    6.000000e-02  \n",
      "25%         6.440031e+02    4.195645e+02  \n",
      "50%         3.695642e+03    1.014512e+03  \n",
      "75%         1.972392e+04    6.322550e+03  \n",
      "max         1.997076e+07    1.989199e+04  \n"
     ]
    }
   ],
   "source": [
    "#!/usr/bin/env python3\n",
    "\n",
    "import pandas as pd\n",
    "# from_file = __import__('2-from_file').from_file\n",
    "\n",
    "df = from_file('coinbaseUSD_1-min_data_2014-12-01_to_2019-01-09.csv', ',')\n",
    "\n",
    "stats = df[df.columns.difference(['Timestamp'])].describe()\n",
    "\n",
    "print(stats)"
   ]
  },
  {
   "cell_type": "markdown",
   "id": "4df75569",
   "metadata": {},
   "source": [
    "# 14. Visualize"
   ]
  },
  {
   "cell_type": "code",
   "execution_count": 54,
   "id": "a96bfced",
   "metadata": {},
   "outputs": [
    {
     "data": {
      "image/png": "[encoded data removed]",
      "text/plain": [
       "<Figure size 640x480 with 1 Axes>"
      ]
     },
     "metadata": {},
     "output_type": "display_data"
    }
   ],
   "source": [
    "#!/usr/bin/env python3\n",
    "\n",
    "from datetime import date\n",
    "import matplotlib.pyplot as plt\n",
    "import pandas as pd\n",
    "# from_file = __import__('2-from_file').from_file\n",
    "\n",
    "df = from_file('coinbaseUSD_1-min_data_2014-12-01_to_2019-01-09.csv', ',')\n",
    "\n",
    "df = df.drop(['Weighted_Price'], axis=1)\n",
    "\n",
    "df = df.rename(columns={'Timestamp': 'Date'})\n",
    "df['Date'] = pd.to_datetime(df['Date'], unit='s')\n",
    "df = df.set_index(['Date'])\n",
    "\n",
    "df['Close'] = df['Close'].fillna(method='ffill')\n",
    "df['High'] = df['High'].fillna(df['Close'])\n",
    "df['Low'] = df['Low'].fillna(df['Close'])\n",
    "df['Open'] = df['Open'].fillna(df['Close'])\n",
    "df['Volume_(BTC)'] = df['Volume_(BTC)'].fillna(0)\n",
    "df['Volume_(Currency)'] = df['Volume_(Currency)'].fillna(0)\n",
    "\n",
    "df = df.loc['2017-01-01 00:00:00':].resample('1D')\n",
    "df = df.agg(func={\n",
    "    'Open': 'mean',\n",
    "    'High': 'max',\n",
    "    'Low': 'min',\n",
    "    'Close': 'mean',\n",
    "    'Volume_(BTC)': 'sum',\n",
    "    'Volume_(Currency)': 'sum'\n",
    "})\n",
    "df.plot()\n",
    "plt.show()"
   ]
  },
  {
   "cell_type": "code",
   "execution_count": null,
   "id": "21c19549",
   "metadata": {},
   "outputs": [],
   "source": []
  }
 ],
 "metadata": {
  "kernelspec": {
   "display_name": "Python 3 (ipykernel)",
   "language": "python",
   "name": "python3"
  },
  "language_info": {
   "codemirror_mode": {
    "name": "ipython",
    "version": 3
   },
   "file_extension": ".py",
   "mimetype": "text/x-python",
   "name": "python",
   "nbconvert_exporter": "python",
   "pygments_lexer": "ipython3",
   "version": "3.9.17"
  }
 },
 "nbformat": 4,
 "nbformat_minor": 5
}
