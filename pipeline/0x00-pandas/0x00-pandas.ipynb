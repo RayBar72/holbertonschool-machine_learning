{
 "cells": [
  {
   "cell_type": "markdown",
   "id": "528362c0",
   "metadata": {},
   "source": [
    "# 0. From Numpy"
   ]
  },
  {
   "cell_type": "code",
   "execution_count": 3,
   "id": "e892d3af",
   "metadata": {},
   "outputs": [],
   "source": [
    "#!/usr/bin/env python3\n",
    "\"\"\"\n",
    "0-from_numpy.py\n",
    "\"\"\"\n",
    "import numpy as np\n",
    "import pandas as pd\n",
    "\n",
    "\n",
    "def from_numpy(array):\n",
    "    \"\"\"\n",
    "    Function that creates a pd.DataFrame from a np.ndarray:\n",
    "\n",
    "    Parameters\n",
    "    ----------\n",
    "    array : np.ndarray\n",
    "        Is the np.ndarray from which you should create the pd.DataFrame.\n",
    "\n",
    "    Returns\n",
    "    -------\n",
    "    pd.Dataframe.\n",
    "\n",
    "    \"\"\"\n",
    "    alfabeto = list(map(chr, range(65, 65 + array.shape[1])))\n",
    "    data = pd.DataFrame(array, columns=alfabeto)\n",
    "    return data\n"
   ]
  },
  {
   "cell_type": "code",
   "execution_count": 4,
   "id": "7efa7b45",
   "metadata": {},
   "outputs": [
    {
     "name": "stdout",
     "output_type": "stream",
     "text": [
      "          A         B         C         D         E         F         G  \\\n",
      "0  1.764052  0.400157  0.978738  2.240893  1.867558 -0.977278  0.950088   \n",
      "1 -0.103219  0.410599  0.144044  1.454274  0.761038  0.121675  0.443863   \n",
      "2  1.494079 -0.205158  0.313068 -0.854096 -2.552990  0.653619  0.864436   \n",
      "3  2.269755 -1.454366  0.045759 -0.187184  1.532779  1.469359  0.154947   \n",
      "4 -0.887786 -1.980796 -0.347912  0.156349  1.230291  1.202380 -0.387327   \n",
      "\n",
      "          H  \n",
      "0 -0.151357  \n",
      "1  0.333674  \n",
      "2 -0.742165  \n",
      "3  0.378163  \n",
      "4 -0.302303  \n",
      "          A         B         C\n",
      "0 -1.048553 -1.420018 -1.706270\n",
      "1  1.950775 -0.509652 -0.438074\n",
      "2 -1.252795  0.777490 -1.613898\n",
      "3 -0.212740 -0.895467  0.386902\n",
      "4 -0.510805 -1.180632 -0.028182\n",
      "5  0.428332  0.066517  0.302472\n",
      "6 -0.634322 -0.362741 -0.672460\n",
      "7 -0.359553 -0.813146 -1.726283\n",
      "8  0.177426 -0.401781 -1.630198\n"
     ]
    }
   ],
   "source": [
    "#!/usr/bin/env python3\n",
    "\n",
    "import numpy as np\n",
    "# from_numpy = __import__('0-from_numpy').from_numpy\n",
    "\n",
    "np.random.seed(0)\n",
    "A = np.random.randn(5, 8)\n",
    "print(from_numpy(A))\n",
    "B = np.random.randn(9, 3)\n",
    "print(from_numpy(B))\n"
   ]
  },
  {
   "cell_type": "markdown",
   "id": "a96e6f34",
   "metadata": {},
   "source": [
    "# 1. From Dictionary"
   ]
  },
  {
   "cell_type": "code",
   "execution_count": 1,
   "id": "704a6617",
   "metadata": {},
   "outputs": [],
   "source": [
    "#!/usr/bin/env python3\n",
    "\"\"\"\n",
    "1-from_dictionary.py\n",
    "\"\"\"\n",
    "import pandas as pd\n",
    "\n",
    "\n",
    "diccionario = {\n",
    "    'First': pd.Series([0.0, 0.5, 1.0, 1.5], index=['A', 'B', 'C', 'D']),\n",
    "    'Second': pd.Series(['one', 'two', 'three', 'four'], index=['A', 'B', 'C', 'D'])\n",
    "}\n",
    "frame = pd.DataFrame(diccionario)\n",
    "globals()['df'] = frame\n"
   ]
  },
  {
   "cell_type": "code",
   "execution_count": 2,
   "id": "85defcb0",
   "metadata": {},
   "outputs": [
    {
     "name": "stdout",
     "output_type": "stream",
     "text": [
      "   First Second\n",
      "A    0.0    one\n",
      "B    0.5    two\n",
      "C    1.0  three\n",
      "D    1.5   four\n"
     ]
    }
   ],
   "source": [
    "#!/usr/bin/env python3\n",
    "\n",
    "# df = __import__('1-from_dictionary').df\n",
    "\n",
    "print(df)\n"
   ]
  },
  {
   "cell_type": "markdown",
   "id": "84d20119",
   "metadata": {},
   "source": [
    "# 2. From File "
   ]
  },
  {
   "cell_type": "code",
   "execution_count": 3,
   "id": "be58f523",
   "metadata": {},
   "outputs": [],
   "source": [
    "#!/usr/bin/env python3\n",
    "\"\"\"\n",
    "2-from_file.py\n",
    "\"\"\"\n",
    "import numpy as np\n",
    "import pandas as pd\n",
    "\n",
    "\n",
    "def from_file(filename, delimiter):\n",
    "    \"\"\"Function that loads data from a file as a pd.DataFrame:\n",
    "\n",
    "    Args:\n",
    "        filename: File to load from.\n",
    "        delimiter (str): column separetor\n",
    "    \"\"\"\n",
    "    return pd.read_table(filename, sep=delimiter)\n"
   ]
  },
  {
   "cell_type": "code",
   "execution_count": 4,
   "id": "be553329",
   "metadata": {},
   "outputs": [
    {
     "name": "stdout",
     "output_type": "stream",
     "text": [
      "    Timestamp   Open   High    Low  Close  Volume_(BTC)  Volume_(Currency)  \\\n",
      "0  1417411980  300.0  300.0  300.0  300.0          0.01                3.0   \n",
      "1  1417412040    NaN    NaN    NaN    NaN           NaN                NaN   \n",
      "2  1417412100    NaN    NaN    NaN    NaN           NaN                NaN   \n",
      "3  1417412160    NaN    NaN    NaN    NaN           NaN                NaN   \n",
      "4  1417412220    NaN    NaN    NaN    NaN           NaN                NaN   \n",
      "\n",
      "   Weighted_Price  \n",
      "0           300.0  \n",
      "1             NaN  \n",
      "2             NaN  \n",
      "3             NaN  \n",
      "4             NaN  \n",
      "          Timestamp     Open     High      Low    Close  Volume_(BTC)  \\\n",
      "4363452  1587513360  6847.97  6856.35  6847.97  6856.35      0.125174   \n",
      "4363453  1587513420  6850.23  6856.13  6850.23  6850.89      1.224777   \n",
      "4363454  1587513480  6846.50  6857.45  6846.02  6857.45      7.089168   \n",
      "4363455  1587513540  6854.18  6854.98  6854.18  6854.98      0.012231   \n",
      "4363456  1587513600  6850.60  6850.60  6850.60  6850.60      0.014436   \n",
      "\n",
      "         Volume_(Currency)  Weighted_Price  \n",
      "4363452         858.128697     6855.498790  \n",
      "4363453        8396.781459     6855.763449  \n",
      "4363454       48533.089069     6846.090966  \n",
      "4363455          83.831604     6854.195090  \n",
      "4363456          98.896906     6850.600000  \n"
     ]
    }
   ],
   "source": [
    "#!/usr/bin/env python3\n",
    "\n",
    "# from_file = __import__('2-from_file').from_file\n",
    "\n",
    "df1 = from_file('coinbaseUSD_1-min_data_2014-12-01_to_2019-01-09.csv', ',')\n",
    "print(df1.head())\n",
    "df2 = from_file('bitstampUSD_1-min_data_2012-01-01_to_2020-04-22.csv', ',')\n",
    "print(df2.tail())\n"
   ]
  },
  {
   "cell_type": "markdown",
   "id": "8137c0a9",
   "metadata": {},
   "source": [
    "# 4. To Numpy"
   ]
  },
  {
   "cell_type": "code",
   "execution_count": 10,
   "id": "c6e22c91",
   "metadata": {},
   "outputs": [
    {
     "name": "stdout",
     "output_type": "stream",
     "text": [
      "[[4009.54 4007.01]\n",
      " [4007.01 4003.49]\n",
      " [4007.29 4006.57]\n",
      " [4006.57 4006.56]\n",
      " [4006.57 4006.01]\n",
      " [4006.57 4006.01]\n",
      " [4006.57 4006.01]\n",
      " [4006.01 4006.01]\n",
      " [4006.01 4005.5 ]\n",
      " [4006.01 4005.99]]\n"
     ]
    }
   ],
   "source": [
    "#!/usr/bin/env python3\n",
    "\n",
    "import pandas as pd\n",
    "# from_file = __import__('2-from_file').from_file\n",
    "\n",
    "df = from_file('coinbaseUSD_1-min_data_2014-12-01_to_2019-01-09.csv', ',')\n",
    "\n",
    "A = df[['High', 'Close']].tail(10).to_numpy()\n",
    "\n",
    "print(A)"
   ]
  },
  {
   "cell_type": "markdown",
   "id": "3c137e14",
   "metadata": {},
   "source": [
    "# 5. Slice"
   ]
  },
  {
   "cell_type": "code",
   "execution_count": 19,
   "id": "877d54cc",
   "metadata": {},
   "outputs": [
    {
     "name": "stdout",
     "output_type": "stream",
     "text": [
      "            High      Low    Close  Volume_(BTC)\n",
      "2099460  4020.08  4020.07  4020.08      4.704989\n",
      "2099520  4020.94  4020.93  4020.94      2.111411\n",
      "2099580  4020.00  4019.01  4020.00      4.637035\n",
      "2099640  4017.00  4016.99  4017.00      2.362372\n",
      "2099700  4014.78  4013.50  4014.72      1.291557\n"
     ]
    }
   ],
   "source": [
    "#!/usr/bin/env python3\n",
    "\n",
    "import pandas as pd\n",
    "# from_file = __import__('2-from_file').from_file\n",
    "\n",
    "df = from_file('coinbaseUSD_1-min_data_2014-12-01_to_2019-01-09.csv', ',')\n",
    "\n",
    "df = df[['High', 'Low', 'Close', 'Volume_(BTC)']][::60]\n",
    "\n",
    "print(df.tail())"
   ]
  },
  {
   "cell_type": "markdown",
   "id": "ff106e41",
   "metadata": {},
   "source": [
    "# 6. Flip it and Switch it"
   ]
  },
  {
   "cell_type": "code",
   "execution_count": 21,
   "id": "455c96ed",
   "metadata": {},
   "outputs": [
    {
     "name": "stdout",
     "output_type": "stream",
     "text": [
      "                        2099759       2099758       2099757       2099756  \\\n",
      "Timestamp          1.546899e+09  1.546899e+09  1.546899e+09  1.546899e+09   \n",
      "Open               4.005510e+03  4.006010e+03  4.006010e+03  4.006010e+03   \n",
      "High               4.006010e+03  4.006010e+03  4.006010e+03  4.006570e+03   \n",
      "Low                4.005510e+03  4.005500e+03  4.006000e+03  4.006000e+03   \n",
      "Close              4.005990e+03  4.005500e+03  4.006010e+03  4.006010e+03   \n",
      "Volume_(BTC)       1.752778e+00  2.699700e+00  1.192123e+00  9.021637e-01   \n",
      "Volume_(Currency)  7.021184e+03  1.081424e+04  4.775647e+03  3.614083e+03   \n",
      "Weighted_Price     4.005746e+03  4.005720e+03  4.006004e+03  4.006017e+03   \n",
      "\n",
      "                        2099755       2099754       2099753       2099752  \\\n",
      "Timestamp          1.546899e+09  1.546898e+09  1.546898e+09  1.546898e+09   \n",
      "Open               4.006010e+03  4.006570e+03  4.006560e+03  4.003490e+03   \n",
      "High               4.006570e+03  4.006570e+03  4.006570e+03  4.007290e+03   \n",
      "Low                4.006000e+03  4.006000e+03  4.006560e+03  4.003490e+03   \n",
      "Close              4.006010e+03  4.006010e+03  4.006560e+03  4.006570e+03   \n",
      "Volume_(BTC)       3.382954e+00  6.951222e+00  8.475772e+00  1.183828e+01   \n",
      "Volume_(Currency)  1.355343e+04  2.784951e+04  3.395870e+04  4.741754e+04   \n",
      "Weighted_Price     4.006390e+03  4.006419e+03  4.006561e+03  4.005441e+03   \n",
      "\n",
      "                        2099751       2099750  ...       9        \\\n",
      "Timestamp          1.546898e+09  1.546898e+09  ...  1.417413e+09   \n",
      "Open               4.007000e+03  4.009540e+03  ...           NaN   \n",
      "High               4.007010e+03  4.009540e+03  ...           NaN   \n",
      "Low                4.000240e+03  4.007000e+03  ...           NaN   \n",
      "Close              4.003490e+03  4.007010e+03  ...           NaN   \n",
      "Volume_(BTC)       9.452163e+00  4.540920e+00  ...           NaN   \n",
      "Volume_(Currency)  3.784576e+04  1.819998e+04  ...           NaN   \n",
      "Weighted_Price     4.003925e+03  4.007993e+03  ...           NaN   \n",
      "\n",
      "                        8             7             6             5        \\\n",
      "Timestamp          1.417412e+09  1.417412e+09  1.417412e+09  1.417412e+09   \n",
      "Open                        NaN  3.000000e+02           NaN           NaN   \n",
      "High                        NaN  3.000000e+02           NaN           NaN   \n",
      "Low                         NaN  3.000000e+02           NaN           NaN   \n",
      "Close                       NaN  3.000000e+02           NaN           NaN   \n",
      "Volume_(BTC)                NaN  1.000000e-02           NaN           NaN   \n",
      "Volume_(Currency)           NaN  3.000000e+00           NaN           NaN   \n",
      "Weighted_Price              NaN  3.000000e+02           NaN           NaN   \n",
      "\n",
      "                        4             3             2             1        \\\n",
      "Timestamp          1.417412e+09  1.417412e+09  1.417412e+09  1.417412e+09   \n",
      "Open                        NaN           NaN           NaN           NaN   \n",
      "High                        NaN           NaN           NaN           NaN   \n",
      "Low                         NaN           NaN           NaN           NaN   \n",
      "Close                       NaN           NaN           NaN           NaN   \n",
      "Volume_(BTC)                NaN           NaN           NaN           NaN   \n",
      "Volume_(Currency)           NaN           NaN           NaN           NaN   \n",
      "Weighted_Price              NaN           NaN           NaN           NaN   \n",
      "\n",
      "                        0        \n",
      "Timestamp          1.417412e+09  \n",
      "Open               3.000000e+02  \n",
      "High               3.000000e+02  \n",
      "Low                3.000000e+02  \n",
      "Close              3.000000e+02  \n",
      "Volume_(BTC)       1.000000e-02  \n",
      "Volume_(Currency)  3.000000e+00  \n",
      "Weighted_Price     3.000000e+02  \n",
      "\n",
      "[8 rows x 2099760 columns]\n"
     ]
    }
   ],
   "source": [
    "#!/usr/bin/env python3\n",
    "\n",
    "import pandas as pd\n",
    "# from_file = __import__('2-from_file').from_file\n",
    "\n",
    "df = from_file('coinbaseUSD_1-min_data_2014-12-01_to_2019-01-09.csv', ',')\n",
    "\n",
    "df = df.sort_values(['Timestamp'], ascending=False).T\n",
    "\n",
    "print(df.tail(8))"
   ]
  },
  {
   "cell_type": "code",
   "execution_count": null,
   "id": "9ec023d8",
   "metadata": {},
   "outputs": [],
   "source": []
  }
 ],
 "metadata": {
  "kernelspec": {
   "display_name": "Python 3 (ipykernel)",
   "language": "python",
   "name": "python3"
  },
  "language_info": {
   "codemirror_mode": {
    "name": "ipython",
    "version": 3
   },
   "file_extension": ".py",
   "mimetype": "text/x-python",
   "name": "python",
   "nbconvert_exporter": "python",
   "pygments_lexer": "ipython3",
   "version": "3.9.17"
  }
 },
 "nbformat": 4,
 "nbformat_minor": 5
}
